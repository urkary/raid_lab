{
 "cells": [
  {
   "cell_type": "markdown",
   "metadata": {},
   "source": [
    "# How I did the HD setup"
   ]
  },
  {
   "cell_type": "markdown",
   "metadata": {},
   "source": [
    "## 1. Check installed hard drives"
   ]
  },
  {
   "cell_type": "markdown",
   "metadata": {},
   "source": [
    "`sudo fdisk -l`\n",
    "```\n",
    "Disk /dev/sda: 238,5 GiB, 256060514304 bytes, 500118192 sectors\n",
    "Units: sectors of 1 * 512 = 512 bytes\n",
    "Sector size (logical/physical): 512 bytes / 512 bytes\n",
    "I/O size (minimum/optimal): 512 bytes / 512 bytes\n",
    "Disklabel type: gpt\n",
    "Disk identifier: 9EA97655-0784-46C4-AB76-5C519C804862\n",
    "\n",
    "Device        Start       End   Sectors  Size Type\n",
    "/dev/sda1      2048  15624191  15622144  7,5G Linux swap\n",
    "/dev/sda2  15624192 500117503 484493312  231G Linux filesystem\n",
    "\n",
    "\n",
    "Disk /dev/sdb: 1,8 TiB, 2000398934016 bytes, 3907029168 sectors\n",
    "Units: sectors of 1 * 512 = 512 bytes\n",
    "Sector size (logical/physical): 512 bytes / 4096 bytes\n",
    "I/O size (minimum/optimal): 4096 bytes / 4096 bytes\n",
    "\n",
    "\n",
    "Disk /dev/sdc: 1,8 TiB, 2000398934016 bytes, 3907029168 sectors\n",
    "Units: sectors of 1 * 512 = 512 bytes\n",
    "Sector size (logical/physical): 512 bytes / 4096 bytes\n",
    "I/O size (minimum/optimal): 4096 bytes / 4096 bytes\n",
    "```"
   ]
  },
  {
   "cell_type": "markdown",
   "metadata": {},
   "source": [
    "Basically, the disks I want to setup, format and mount are `sdb` and `sdc`.\n",
    "With the next I see that only `sda` is currently mounted:"
   ]
  },
  {
   "cell_type": "markdown",
   "metadata": {},
   "source": [
    "```\n",
    "df -h | grep -v /dev/loop\n",
    "\n",
    "Filesystem      Size  Used Avail Use% Mounted on\n",
    "udev             16G     0   16G   0% /dev\n",
    "tmpfs           3,2G  2,4M  3,2G   1% /run\n",
    "/dev/sda2       227G  160G   56G  75% /\n",
    "tmpfs            16G  295M   16G   2% /dev/shm\n",
    "tmpfs           5,0M  4,0K  5,0M   1% /run/lock\n",
    "tmpfs            16G     0   16G   0% /sys/fs/cgroup\n",
    "tmpfs           3,2G   28K  3,2G   1% /run/user/121\n",
    "tmpfs           3,2G   88K  3,2G   1% /run/user/1003\n",
    "```"
   ]
  },
  {
   "cell_type": "markdown",
   "metadata": {},
   "source": [
    "## 2. Formatear y montar /dev/sdb"
   ]
  },
  {
   "cell_type": "markdown",
   "metadata": {},
   "source": [
    "`sudo lshw -C disk`"
   ]
  },
  {
   "cell_type": "markdown",
   "metadata": {},
   "source": [
    "I will copy just the info for `sdb`"
   ]
  },
  {
   "cell_type": "markdown",
   "metadata": {},
   "source": [
    "```\n",
    "*-disk\n",
    "       description: ATA Disk\n",
    "       product: ST2000DM001-1ER1\n",
    "       vendor: Seagate\n",
    "       physical id: 0.0.0\n",
    "       bus info: scsi@1:0.0.0\n",
    "       logical name: /dev/sdb\n",
    "       version: CC28\n",
    "       serial: Z4ZBQY1R\n",
    "       size: 1863GiB (2TB)\n",
    "       configuration: ansiversion=5 logicalsectorsize=512 sectorsize=4096\n",
    "```"
   ]
  },
  {
   "cell_type": "markdown",
   "metadata": {},
   "source": [
    "Format the disk using `parted`.\n",
    "First, open the `parted` console:\n",
    "\n",
    "```\n",
    "sudo parted /dev/sdb\n",
    "[sudo] password for cantalapiedra: \n",
    "GNU Parted 3.2\n",
    "Using /dev/sdb\n",
    "Welcome to GNU Parted! Type 'help' to view a list of commands.\n",
    "(parted) \n",
    "```"
   ]
  },
  {
   "cell_type": "markdown",
   "metadata": {},
   "source": [
    "Within `parted`, create the partition, then quit:\n",
    "```\n",
    "(parted) mklabel gpt                                                      \n",
    "(parted) unit TB                                                          \n",
    "(parted) mkpart primary 0.00TB 2.00TB\n",
    "(parted) print                                                            \n",
    "Model: ATA ST2000DM001-1ER1 (scsi)\n",
    "Disk /dev/sdb: 2,00TB\n",
    "Sector size (logical/physical): 512B/4096B\n",
    "Partition Table: gpt\n",
    "Disk Flags: \n",
    "\n",
    "Number  Start   End     Size    File system  Name     Flags\n",
    " 1      0,00TB  2,00TB  2,00TB               primary\n",
    "\n",
    "(parted) quit\n",
    "\n",
    "```"
   ]
  },
  {
   "cell_type": "markdown",
   "metadata": {},
   "source": [
    "Format the partition:\n",
    "```\n",
    "sudo mkfs -t ext4 /dev/sdb1\n",
    "mke2fs 1.44.1 (24-Mar-2018)\n",
    "\n",
    "Creating filesystem with 488378368 4k blocks and 122101760 inodes\n",
    "Filesystem UUID: ee775237-2607-44dd-870c-399b8885586d\n",
    "Superblock backups stored on blocks: \n",
    "\t32768, 98304, 163840, 229376, 294912, 819200, 884736, 1605632, 2654208, \n",
    "\t4096000, 7962624, 11239424, 20480000, 23887872, 71663616, 78675968, \n",
    "\t102400000, 214990848\n",
    "\n",
    "Allocating group tables: done                            \n",
    "Writing inode tables: done                            \n",
    "Creating journal (262144 blocks): done\n",
    "Writing superblocks and filesystem accounting information: done\n",
    "```"
   ]
  },
  {
   "cell_type": "markdown",
   "metadata": {},
   "source": [
    "Create the directory where the HD will be mounted (I chose \"/data\" but you could choose any name you want):\n",
    "```\n",
    "sudo mkdir /data\n",
    "```"
   ]
  },
  {
   "cell_type": "markdown",
   "metadata": {},
   "source": [
    "Mount the HD:\n",
    "\n",
    "```\n",
    "sudo mount /dev/sdb1 /data\n",
    "sudo chown -R USERNAME:GROUPNAME /data # change the owner of the directory to your user and group)\n",
    "sudo chmod 755 /data  ## make sensible permissions\n",
    "cd /data              ## change to the mount directory\n",
    "ls -a                  ## list content of the new hard drive\n",
    "```"
   ]
  },
  {
   "cell_type": "markdown",
   "metadata": {},
   "source": [
    "Unmount the HD (because we will use automount through `/etc/fstab`):\n",
    "```\n",
    "sudo umount /dev/sdb1\n",
    "```\n"
   ]
  },
  {
   "cell_type": "markdown",
   "metadata": {},
   "source": [
    "Retrieve the UUID:\n",
    "```\n",
    "sudo blkid | grep sdb1\n",
    "/dev/sdb1: UUID=\"d7618b9c-614a-4f55-8de3-78c6e51ac9c0\" TYPE=\"ext4\" PARTLABEL=\"primery\" PARTUUID=\"bd2bab25-a985-4882-82e9-d3ac489f19a0\"\n",
    "```"
   ]
  },
  {
   "cell_type": "markdown",
   "metadata": {},
   "source": [
    "Add mount to `/etc/fstab`\n",
    "```\n",
    "sudo cp /etc/fstab /etc/fstab.bak # backup the file (just in case!)\n",
    "sudo nano /etc/fstab # (open the file) and add the next line:\n",
    "UUID=d7618b9c-614a-4f55-8de3-78c6e51ac9c0   /data    ext4    defaults    0    2\n",
    "```"
   ]
  },
  {
   "cell_type": "markdown",
   "metadata": {},
   "source": [
    "After `sudo mount -a` we should see the files within `/data` with `ls /data`"
   ]
  },
  {
   "cell_type": "code",
   "execution_count": 3,
   "metadata": {
    "scrolled": true
   },
   "outputs": [
    {
     "data": {
      "text/html": [
       "<img src=\"http://e00-marca.uecdn.es/assets/multimedia/imagenes/2016/10/16/14766103230639.jpg\"\\>"
      ],
      "text/plain": [
       "<IPython.core.display.HTML object>"
      ]
     },
     "metadata": {},
     "output_type": "display_data"
    }
   ],
   "source": [
    "%%HTML\n",
    "<img src=\"http://e00-marca.uecdn.es/assets/multimedia/imagenes/2016/10/16/14766103230639.jpg\"\\>"
   ]
  },
  {
   "cell_type": "markdown",
   "metadata": {},
   "source": [
    "## postdata\n",
    "\n",
    "Por si en el futuro hay que hacerlos RAID, un enlace con pasos sugeridos es este: \n",
    "\n",
    "[Setup](Setup existing drive as RAID.ipynb)\n",
    "\n",
    "ó\n",
    "\n",
    "https://wiki.archlinux.org/index.php/Convert_a_single_drive_system_to_RAID"
   ]
  },
  {
   "cell_type": "code",
   "execution_count": null,
   "metadata": {},
   "outputs": [],
   "source": []
  }
 ],
 "metadata": {
  "kernelspec": {
   "display_name": "Python 2",
   "language": "python",
   "name": "python2"
  },
  "language_info": {
   "codemirror_mode": {
    "name": "ipython",
    "version": 2
   },
   "file_extension": ".py",
   "mimetype": "text/x-python",
   "name": "python",
   "nbconvert_exporter": "python",
   "pygments_lexer": "ipython2",
   "version": "2.7.15"
  }
 },
 "nbformat": 4,
 "nbformat_minor": 2
}
