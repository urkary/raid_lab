{
 "cells": [
  {
   "cell_type": "markdown",
   "metadata": {},
   "source": [
    "# How I did the RAID setup"
   ]
  },
  {
   "cell_type": "markdown",
   "metadata": {},
   "source": [
    "## 1. Check installed hard drives"
   ]
  },
  {
   "cell_type": "markdown",
   "metadata": {},
   "source": [
    "```\n",
    "sudo fdisk -l\n",
    "```"
   ]
  },
  {
   "cell_type": "markdown",
   "metadata": {},
   "source": [
    "```\n",
    "Disk /dev/sda: 238,5 GiB, 256060514304 bytes, 500118192 sectors\n",
    "Units: sectors of 1 * 512 = 512 bytes\n",
    "Sector size (logical/physical): 512 bytes / 512 bytes\n",
    "I/O size (minimum/optimal): 512 bytes / 512 bytes\n",
    "Disklabel type: gpt\n",
    "Disk identifier: 9EA97655-0784-46C4-AB76-5C519C804862\n",
    "\n",
    "Device        Start       End   Sectors  Size Type\n",
    "/dev/sda1      2048  15624191  15622144  7,5G Linux swap\n",
    "/dev/sda2  15624192 500117503 484493312  231G Linux filesystem\n",
    "\n",
    "\n",
    "Disk /dev/sdb: 1,8 TiB, 2000398934016 bytes, 3907029168 sectors\n",
    "Units: sectors of 1 * 512 = 512 bytes\n",
    "Sector size (logical/physical): 512 bytes / 4096 bytes\n",
    "I/O size (minimum/optimal): 4096 bytes / 4096 bytes\n",
    "\n",
    "\n",
    "Disk /dev/sdc: 1,8 TiB, 2000398934016 bytes, 3907029168 sectors\n",
    "Units: sectors of 1 * 512 = 512 bytes\n",
    "Sector size (logical/physical): 512 bytes / 4096 bytes\n",
    "I/O size (minimum/optimal): 4096 bytes / 4096 bytes\n",
    "```"
   ]
  },
  {
   "cell_type": "markdown",
   "metadata": {},
   "source": [
    "Basically, the disks I want to setup, format and mount are sdb and sdc.\n",
    "With the next I see that only sda is currently mounted:"
   ]
  },
  {
   "cell_type": "markdown",
   "metadata": {},
   "source": [
    "```\n",
    "df -h | grep -v /dev/loop\n",
    "\n",
    "Filesystem      Size  Used Avail Use% Mounted on\n",
    "udev             16G     0   16G   0% /dev\n",
    "tmpfs           3,2G  2,4M  3,2G   1% /run\n",
    "/dev/sda2       227G  160G   56G  75% /\n",
    "tmpfs            16G  295M   16G   2% /dev/shm\n",
    "tmpfs           5,0M  4,0K  5,0M   1% /run/lock\n",
    "tmpfs            16G     0   16G   0% /sys/fs/cgroup\n",
    "tmpfs           3,2G   28K  3,2G   1% /run/user/121\n",
    "tmpfs           3,2G   88K  3,2G   1% /run/user/1003\n",
    "```"
   ]
  },
  {
   "cell_type": "markdown",
   "metadata": {},
   "source": [
    "Al final hemos decidido formatear y montar solo uno de los discos, y dejar el posible uso del otro para un futuro, tal vez en RAID, como backup, en un NAS o ya se verá."
   ]
  },
  {
   "cell_type": "markdown",
   "metadata": {},
   "source": [
    "Por si en el futuro hay que hacerlos RAID, un enlace con pasos sugeridos es este: \n",
    "\n",
    "[Setup](Setup existing drive as RAID.ipynb)\n",
    "\n",
    "ó\n",
    "\n",
    "https://wiki.archlinux.org/index.php/Convert_a_single_drive_system_to_RAID"
   ]
  },
  {
   "cell_type": "markdown",
   "metadata": {},
   "source": [
    "## 2. Formatear y montar /dev/sdb"
   ]
  },
  {
   "cell_type": "code",
   "execution_count": null,
   "metadata": {},
   "outputs": [],
   "source": []
  }
 ],
 "metadata": {
  "kernelspec": {
   "display_name": "Python 2",
   "language": "python",
   "name": "python2"
  },
  "language_info": {
   "codemirror_mode": {
    "name": "ipython",
    "version": 2
   },
   "file_extension": ".py",
   "mimetype": "text/x-python",
   "name": "python",
   "nbconvert_exporter": "python",
   "pygments_lexer": "ipython2",
   "version": "2.7.15"
  }
 },
 "nbformat": 4,
 "nbformat_minor": 2
}
